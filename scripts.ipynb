{
 "cells": [
  {
   "cell_type": "markdown",
   "metadata": {},
   "source": [
    "подготовка перед сборкой"
   ]
  },
  {
   "cell_type": "code",
   "execution_count": 1,
   "metadata": {},
   "outputs": [
    {
     "name": "stdout",
     "output_type": "stream",
     "text": [
      "Cloning into 'itmo_lab0'...\n",
      "remote: Enumerating objects: 19, done.\u001b[K\n",
      "remote: Counting objects: 100% (19/19), done.\u001b[K\n",
      "remote: Compressing objects: 100% (11/11), done.\u001b[K\n",
      "Receiving objects: 100% (19/19), done.\n",
      "Resolving deltas: 100% (3/3), done.\n",
      "remote: Total 19 (delta 3), reused 19 (delta 3), pack-reused 0\u001b[K\n",
      "/home/nanzert/Repos/ITMO/TheWorstLabEver/itmo_lab0/build\n"
     ]
    }
   ],
   "source": [
    "!git clone https://github.com/NanzeRT/itmo_lab0.git\n",
    "%cd itmo_lab0/build"
   ]
  },
  {
   "cell_type": "markdown",
   "metadata": {},
   "source": [
    "сборка"
   ]
  },
  {
   "cell_type": "code",
   "execution_count": 2,
   "metadata": {},
   "outputs": [],
   "source": [
    "!find ../src -name \"*.java\" | xargs javac -d classes\n",
    "!jar -cfm app.jar MANIFEST.MF -C classes/ ."
   ]
  },
  {
   "cell_type": "markdown",
   "metadata": {},
   "source": [
    "запуск"
   ]
  },
  {
   "cell_type": "code",
   "execution_count": 3,
   "metadata": {},
   "outputs": [
    {
     "name": "stdout",
     "output_type": "stream",
     "text": [
      "     NaN      NaN Infinity      NaN      NaN Infinity Infinity Infinity Infinity  0.02079  0.02173 Infinity Infinity      NaN \n",
      " 0.16789 -3.69547  7.40328 -6.44509 -5.09361 13.98637  8.59769 11.45708 10.49705  2.72516  2.79274  4.70517 11.82361 -7.17088 \n",
      " 0.06642  0.00003  0.00001  0.00000  0.00000  0.00000  0.00000  0.00000  0.00000  0.09008  0.07874  0.00172  0.00000  0.00000 \n",
      " 0.06642  0.00003  0.00001  0.00000  0.00000  0.00000  0.00000  0.00000  0.00000  0.09008  0.07874  0.00172  0.00000  0.00000 \n",
      " 0.06642  0.00003  0.00001  0.00000  0.00000  0.00000  0.00000  0.00000  0.00000  0.09008  0.07874  0.00172  0.00000  0.00000 \n",
      " 0.06642  0.00003  0.00001  0.00000  0.00000  0.00000  0.00000  0.00000  0.00000  0.09008  0.07874  0.00172  0.00000  0.00000 \n",
      " 0.06642  0.00003  0.00001  0.00000  0.00000  0.00000  0.00000  0.00000  0.00000  0.09008  0.07874  0.00172  0.00000  0.00000 \n",
      "     NaN      NaN Infinity      NaN      NaN Infinity Infinity Infinity Infinity  0.02079  0.02173 Infinity Infinity      NaN \n",
      "     NaN      NaN Infinity      NaN      NaN Infinity Infinity Infinity Infinity  0.02079  0.02173 Infinity Infinity      NaN \n",
      " 0.06642  0.00003  0.00001  0.00000  0.00000  0.00000  0.00000  0.00000  0.00000  0.09008  0.07874  0.00172  0.00000  0.00000 \n",
      "     NaN      NaN Infinity      NaN      NaN Infinity Infinity Infinity Infinity  0.02079  0.02173 Infinity Infinity      NaN \n",
      "     NaN      NaN Infinity      NaN      NaN Infinity Infinity Infinity Infinity  0.02079  0.02173 Infinity Infinity      NaN \n",
      " 0.06642  0.00003  0.00001  0.00000  0.00000  0.00000  0.00000  0.00000  0.00000  0.09008  0.07874  0.00172  0.00000  0.00000 \n",
      " 0.06642  0.00003  0.00001  0.00000  0.00000  0.00000  0.00000  0.00000  0.00000  0.09008  0.07874  0.00172  0.00000  0.00000 \n",
      "     NaN      NaN Infinity      NaN      NaN Infinity Infinity Infinity Infinity  0.02079  0.02173 Infinity Infinity      NaN \n",
      "     NaN      NaN Infinity      NaN      NaN Infinity Infinity Infinity Infinity  0.02079  0.02173 Infinity Infinity      NaN \n",
      "     NaN      NaN Infinity      NaN      NaN Infinity Infinity Infinity Infinity  0.02079  0.02173 Infinity Infinity      NaN \n",
      " 0.06642  0.00003  0.00001  0.00000  0.00000  0.00000  0.00000  0.00000  0.00000  0.09008  0.07874  0.00172  0.00000  0.00000 \n"
     ]
    }
   ],
   "source": [
    "!java -jar app.jar"
   ]
  }
 ],
 "metadata": {
  "kernelspec": {
   "display_name": "Python 3.10.7 64-bit",
   "language": "python",
   "name": "python3"
  },
  "language_info": {
   "codemirror_mode": {
    "name": "ipython",
    "version": 3
   },
   "file_extension": ".py",
   "mimetype": "text/x-python",
   "name": "python",
   "nbconvert_exporter": "python",
   "pygments_lexer": "ipython3",
   "version": "3.10.7"
  },
  "orig_nbformat": 4,
  "vscode": {
   "interpreter": {
    "hash": "767d51c1340bd893661ea55ea3124f6de3c7a262a8b4abca0554b478b1e2ff90"
   }
  }
 },
 "nbformat": 4,
 "nbformat_minor": 2
}
